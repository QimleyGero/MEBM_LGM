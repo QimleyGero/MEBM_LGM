{
 "cells": [
  {
   "cell_type": "code",
   "execution_count": 1,
   "id": "5b514f8a",
   "metadata": {},
   "outputs": [],
   "source": [
    "import numpy as np\n",
    "import scipy.io as io\n",
    "import matplotlib.pyplot as plt\n",
    "from scipy.stats import norm\n",
    "import netCDF4 as n4\n",
    "import xarray\n",
    "from scipy.interpolate import griddata\n",
    "%run define.ipynb\n",
    "from scipy.stats import linregress"
   ]
  },
  {
   "cell_type": "code",
   "execution_count": 12,
   "id": "d8ff821c",
   "metadata": {},
   "outputs": [
    {
     "name": "stdout",
     "output_type": "stream",
     "text": [
      "101\n"
     ]
    }
   ],
   "source": [
    "jmx=101; #102\n",
    "delx = 2.0/jmx;\n",
    "x = np.arange(-1.0+delx/2,1.0,delx)\n",
    "print(len(x))\n",
    "phi = 180/np.pi*np.arcsin(x)\n",
    "\n",
    "cp = 1004\n",
    "L = 2.5e6\n",
    "\n",
    "CMIP5 = io.loadmat('ERA5_AHT_TQ925_TS_T2_EP_climatology.mat')\n",
    "x_lat = CMIP5['lat']\n",
    "#mask = [0, 1, 2, 3, 4, 7, 8, 10, 11, 12, 13, 14, 15]"
   ]
  },
  {
   "cell_type": "code",
   "execution_count": 37,
   "id": "165fcd0e",
   "metadata": {},
   "outputs": [],
   "source": [
    "T_925 = griddata(x_lat, np.mean(CMIP5['CT925'], axis = 0), phi, method='linear')\n",
    "T_2m = griddata(x_lat, np.mean(CMIP5['ERA_T2'], axis = 0), phi, method='linear')\n",
    "T_S = griddata(x_lat[0:181], np.mean(CMIP5['ERA_TS'], axis = 0), phi[50:102], method='linear')"
   ]
  },
  {
   "cell_type": "code",
   "execution_count": 39,
   "id": "d9107c3b",
   "metadata": {},
   "outputs": [
    {
     "name": "stdout",
     "output_type": "stream",
     "text": [
      "51\n"
     ]
    },
    {
     "data": {
      "image/png": "[encoded data removed]",
      "text/plain": [
       "<Figure size 432x288 with 1 Axes>"
      ]
     },
     "metadata": {
      "needs_background": "light"
     },
     "output_type": "display_data"
    }
   ],
   "source": [
    "plt.scatter(T_2m[50:101], T_925[50:101])\n",
    "print(len(T_S))\n",
    "plt.scatter(T_2m[50:101], T_S)\n",
    "plt.plot(T_S,T_S)\n",
    "plt.grid()"
   ]
  },
  {
   "cell_type": "code",
   "execution_count": 25,
   "id": "8a020b39",
   "metadata": {},
   "outputs": [
    {
     "data": {
      "text/plain": [
       "array([         nan,          nan,          nan,          nan,\n",
       "                nan,          nan,          nan,          nan,\n",
       "                nan,          nan,          nan,          nan,\n",
       "                nan,          nan,          nan,          nan,\n",
       "                nan,          nan,          nan,          nan,\n",
       "                nan,          nan,          nan,          nan,\n",
       "                nan,          nan,          nan,          nan,\n",
       "                nan,          nan,          nan,          nan,\n",
       "                nan,          nan,          nan,          nan,\n",
       "                nan,          nan,          nan,          nan,\n",
       "                nan,          nan,          nan,          nan,\n",
       "                nan,          nan,          nan,          nan,\n",
       "                nan,          nan, 299.84094507])"
      ]
     },
     "execution_count": 25,
     "metadata": {},
     "output_type": "execute_result"
    }
   ],
   "source": [
    "T_S"
   ]
  },
  {
   "cell_type": "code",
   "execution_count": 27,
   "id": "98b1b760",
   "metadata": {},
   "outputs": [
    {
     "data": {
      "text/plain": [
       "array([-8.19306988e+01, -7.60003087e+01, -7.18961861e+01, -6.85431108e+01,\n",
       "       -6.56287853e+01, -6.30104244e+01, -6.06085584e+01, -5.83735716e+01,\n",
       "       -5.62720303e+01, -5.42801379e+01, -5.23802434e+01, -5.05588246e+01,\n",
       "       -4.88052488e+01, -4.71109742e+01, -4.54690140e+01, -4.38735649e+01,\n",
       "       -4.23197423e+01, -4.08033866e+01, -3.93209192e+01, -3.78692331e+01,\n",
       "       -3.64456083e+01, -3.50476458e+01, -3.36732154e+01, -3.23204133e+01,\n",
       "       -3.09875286e+01, -2.96730148e+01, -2.83754676e+01, -2.70936050e+01,\n",
       "       -2.58262519e+01, -2.45723262e+01, -2.33308273e+01, -2.21008262e+01,\n",
       "       -2.08814573e+01, -1.96719108e+01, -1.84714263e+01, -1.72792872e+01,\n",
       "       -1.60948160e+01, -1.49173695e+01, -1.37463352e+01, -1.25811279e+01,\n",
       "       -1.14211863e+01, -1.02659701e+01, -9.11495795e+00, -7.96764432e+00,\n",
       "       -6.82353784e+00, -5.68215904e+00, -4.54303846e+00, -3.40571485e+00,\n",
       "       -2.26973338e+00, -1.13464405e+00,  5.08888749e-14])"
      ]
     },
     "execution_count": 27,
     "metadata": {},
     "output_type": "execute_result"
    }
   ],
   "source": [
    "phi[0:51]"
   ]
  },
  {
   "cell_type": "code",
   "execution_count": null,
   "id": "47a1ad42",
   "metadata": {},
   "outputs": [],
   "source": []
  }
 ],
 "metadata": {
  "kernelspec": {
   "display_name": "Python 3",
   "language": "python",
   "name": "python3"
  },
  "language_info": {
   "codemirror_mode": {
    "name": "ipython",
    "version": 3
   },
   "file_extension": ".py",
   "mimetype": "text/x-python",
   "name": "python",
   "nbconvert_exporter": "python",
   "pygments_lexer": "ipython3",
   "version": "3.8.8"
  }
 },
 "nbformat": 4,
 "nbformat_minor": 5
}
